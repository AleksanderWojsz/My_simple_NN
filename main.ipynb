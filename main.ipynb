{
 "cells": [
  {
   "metadata": {
    "ExecuteTime": {
     "end_time": "2024-10-16T06:56:51.765047Z",
     "start_time": "2024-10-16T06:56:50.024643Z"
    }
   },
   "cell_type": "code",
   "source": [
    "import numpy as np\n",
    "import pandas as pd"
   ],
   "id": "9af76cdd2504c5db",
   "outputs": [],
   "execution_count": 1
  },
  {
   "metadata": {
    "ExecuteTime": {
     "end_time": "2024-10-16T06:56:51.780599Z",
     "start_time": "2024-10-16T06:56:51.777053Z"
    }
   },
   "cell_type": "code",
   "source": [
    "def one_hot_encoding(Y):\n",
    "    Y_len = np.shape(Y)[0]\n",
    "    vector = np.zeros((Y_len, 10))\n",
    "    vector[np.arange(0, Y_len, 1), Y] = 1\n",
    "    return vector"
   ],
   "id": "74045e2f544f5290",
   "outputs": [],
   "execution_count": 2
  },
  {
   "metadata": {
    "ExecuteTime": {
     "end_time": "2024-10-16T06:56:53.529607Z",
     "start_time": "2024-10-16T06:56:51.785611Z"
    }
   },
   "cell_type": "code",
   "source": [
    "train = pd.read_csv(\"mnist_train.csv\")\n",
    "train = np.array(train)\n",
    "train_Y = one_hot_encoding(train[:, 0])\n",
    "train_X = train[:, 1:]"
   ],
   "id": "c346e47e5e52cb17",
   "outputs": [],
   "execution_count": 3
  },
  {
   "metadata": {
    "ExecuteTime": {
     "end_time": "2024-10-16T06:56:54.148230Z",
     "start_time": "2024-10-16T06:56:54.143230Z"
    }
   },
   "cell_type": "code",
   "source": [
    "weights_first_layer = np.random.rand(20, 784) - 0.5\n",
    "bias_first_layer = np.zeros(20)\n",
    "weights_second_layer = np.random.rand(10, 20) - 0.5\n",
    "bias_second_layer = np.zeros(10)"
   ],
   "id": "9489ef651d01346",
   "outputs": [],
   "execution_count": 4
  },
  {
   "metadata": {
    "ExecuteTime": {
     "end_time": "2024-10-16T06:56:54.169065Z",
     "start_time": "2024-10-16T06:56:54.158483Z"
    }
   },
   "cell_type": "code",
   "source": [
    "def Sigmoid(X):\n",
    "    X = np.clip(X, -700, 700) # to avoid overflow\n",
    "    return 1 / (1 + np.exp(-X))\n",
    "\n",
    "def softmax(X):\n",
    "    X = X - np.max(X) # to avoid overflow\n",
    "    return np.e**X / np.sum(np.e**X) \n",
    "\n",
    "def get_error(output, expected_output):\n",
    "    return np.sum((output - expected_output) ** 2) / len(output)\n",
    "\n",
    "def train(images, labels):\n",
    "  \n",
    "    epochs = 7\n",
    "    learning_rate = 0.001\n",
    "    \n",
    "    global weights_first_layer\n",
    "    global bias_first_layer\n",
    "    global weights_second_layer\n",
    "    global bias_second_layer\n",
    "    \n",
    "    for _ in range(epochs):\n",
    "        no_of_correct_answers = 0\n",
    "        for image, label in zip(images, labels):\n",
    "            \n",
    "            # Forwards propagation\n",
    "            first_layer_values = Sigmoid(np.dot(image, weights_first_layer.transpose()) + bias_first_layer)\n",
    "            second_layer_values = softmax(np.dot(first_layer_values, weights_second_layer.transpose()) + bias_second_layer)\n",
    "            \n",
    "            # Backwards propagation second_layer->first_layer\n",
    "            delta_second_layer = second_layer_values - label\n",
    "            weights_second_layer += -learning_rate * (np.dot(delta_second_layer.reshape(10, 1), first_layer_values.reshape(1, 20)))\n",
    "            bias_second_layer += (-learning_rate * (np.dot(delta_second_layer.reshape(10, 1), 1))).flatten()\n",
    "            \n",
    "            # Backwards propagation first_layer->input\n",
    "            delta_first_layer = np.dot(weights_second_layer.T, delta_second_layer) * (first_layer_values * (1 - first_layer_values))\n",
    "            weights_first_layer += -learning_rate * (np.dot(delta_first_layer.reshape(20, 1), image.reshape(1, 784)))\n",
    "            bias_first_layer += (-learning_rate * (np.dot(delta_first_layer.reshape(20, 1), 1))).flatten() \n",
    "                        \n",
    "            no_of_correct_answers += (1 if np.argmax(second_layer_values) == np.argmax(label) else 0)\n",
    "        print(\"Accuracy\", no_of_correct_answers / images.shape[0] * 100, \"%\")\n",
    "        \n",
    "def test(images, labels):\n",
    "    no_of_correct_answers = 0\n",
    "    for image, label in zip(images, labels):\n",
    "        first_layer_values = Sigmoid(np.dot(image, weights_first_layer.transpose()) + bias_first_layer)\n",
    "        second_layer_values = softmax(np.dot(first_layer_values, weights_second_layer.transpose()) + bias_second_layer)\n",
    "        \n",
    "        no_of_correct_answers += (1 if np.argmax(second_layer_values) == np.argmax(label) else 0)\n",
    "        get_error(second_layer_values, label)\n",
    "    \n",
    "    print(\"Accuracy\", no_of_correct_answers / images.shape[0] * 100, \"%\")\n"
   ],
   "id": "6ccb279c5e555a3a",
   "outputs": [],
   "execution_count": 5
  },
  {
   "metadata": {
    "ExecuteTime": {
     "end_time": "2024-10-16T06:58:03.149117Z",
     "start_time": "2024-10-16T06:56:54.221307Z"
    }
   },
   "cell_type": "code",
   "source": "train(train_X, train_Y)",
   "id": "4176f20cd5543e9e",
   "outputs": [
    {
     "name": "stdout",
     "output_type": "stream",
     "text": [
      "Accuracy 57.483333333333334 %\n",
      "Accuracy 73.495 %\n",
      "Accuracy 77.73833333333333 %\n",
      "Accuracy 79.41166666666668 %\n",
      "Accuracy 79.99000000000001 %\n",
      "Accuracy 80.26833333333333 %\n",
      "Accuracy 81.70500000000001 %\n"
     ]
    }
   ],
   "execution_count": 6
  },
  {
   "metadata": {
    "ExecuteTime": {
     "end_time": "2024-10-16T06:58:03.595733Z",
     "start_time": "2024-10-16T06:58:03.176066Z"
    }
   },
   "cell_type": "code",
   "source": [
    "test_date = pd.read_csv(\"mnist_test.csv\")\n",
    "test_date = np.array(test_date)\n",
    "test_Y = one_hot_encoding(test_date[:, 0])\n",
    "test_X = test_date[:, 1:]"
   ],
   "id": "7dbdd0cdf4ee807b",
   "outputs": [],
   "execution_count": 7
  },
  {
   "metadata": {
    "ExecuteTime": {
     "end_time": "2024-10-16T06:58:04.632114Z",
     "start_time": "2024-10-16T06:58:03.608112Z"
    }
   },
   "cell_type": "code",
   "source": "test(test_X, test_Y)",
   "id": "878f1211aabcb6fe",
   "outputs": [
    {
     "name": "stdout",
     "output_type": "stream",
     "text": [
      "Accuracy 81.76 %\n"
     ]
    }
   ],
   "execution_count": 8
  }
 ],
 "metadata": {
  "kernelspec": {
   "display_name": "Python 3",
   "language": "python",
   "name": "python3"
  },
  "language_info": {
   "codemirror_mode": {
    "name": "ipython",
    "version": 2
   },
   "file_extension": ".py",
   "mimetype": "text/x-python",
   "name": "python",
   "nbconvert_exporter": "python",
   "pygments_lexer": "ipython2",
   "version": "2.7.6"
  }
 },
 "nbformat": 4,
 "nbformat_minor": 5
}
